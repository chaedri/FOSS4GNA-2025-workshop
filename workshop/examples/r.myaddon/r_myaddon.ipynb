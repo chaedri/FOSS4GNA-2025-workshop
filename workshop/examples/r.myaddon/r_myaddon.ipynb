{
 "cells": [
  {
   "cell_type": "markdown",
   "metadata": {},
   "source": [
    "# r.myaddon\n",
    "\n",
    "This notebook runs the example from r.myaddon's manual page and visualizes the output.\n",
    "\n",
    "## Setup\n",
    "\n",
    "We will be using the NC SPM sample location."
   ]
  },
  {
   "cell_type": "code",
   "execution_count": null,
   "metadata": {},
   "outputs": [],
   "source": [
    "import subprocess\n",
    "import sys\n",
    "\n",
    "# Ask GRASS where its Python packages are.\n",
    "sys.path.append(\n",
    "    subprocess.check_output([\"grass\", \"--config\", \"python_path\"], text=True).strip()\n",
    ")\n",
    "\n",
    "# Import GRASS packages\n",
    "import grass.script as gs\n",
    "import grass.jupyter as gj\n",
    "from grass.tools import Tools\n",
    "\n",
    "# Start GRASS Session\n",
    "session = gj.init(\"~/data/grassdata/nc_basic_spm_grass7/user1\")\n",
    "tools = Tools(session=session)"
   ]
  },
  {
   "cell_type": "markdown",
   "metadata": {},
   "source": [
    "## Create example from the tool's documentation"
   ]
  },
  {
   "cell_type": "code",
   "execution_count": null,
   "metadata": {},
   "outputs": [],
   "source": [
    "r_myaddon_input = \"elevation\"\n",
    "r_myaddon_output = \"output\"\n",
    "gs.run_command(\n",
    "    \"r.myaddon\",\n",
    "    input=r_myaddon_input,\n",
    "    output=r_myaddon_output,\n",
    ")\n",
    "with gs.RegionManager(raster=r_myaddon_input):\n",
    "    tools.r_myaddon_input(input=r_myaddon_input, output=r_myaddon_output)"
   ]
  },
  {
   "cell_type": "code",
   "execution_count": null,
   "metadata": {},
   "outputs": [],
   "source": [
    "r_myaddon_map = gj.Map()\n",
    "r_myaddon_map.d_rast(map=r_myaddon_output)\n",
    "r_myaddon_map.show()"
   ]
  }
 ],
 "metadata": {
  "language_info": {
   "name": "python",
   "pygments_lexer": "ipython3"
  }
 },
 "nbformat": 4,
 "nbformat_minor": 4
}
